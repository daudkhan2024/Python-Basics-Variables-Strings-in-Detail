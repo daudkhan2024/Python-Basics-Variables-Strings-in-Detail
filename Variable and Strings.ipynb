{
 "cells": [
  {
   "cell_type": "markdown",
   "id": "627c946a",
   "metadata": {},
   "source": [
    "###### Variables"
   ]
  },
  {
   "cell_type": "code",
   "execution_count": 2,
   "id": "7e4a1002",
   "metadata": {},
   "outputs": [],
   "source": [
    "a  = 100 # lets says we assign value 100 to a so \"a\" is a variable"
   ]
  },
  {
   "cell_type": "code",
   "execution_count": 3,
   "id": "cea9bb02",
   "metadata": {},
   "outputs": [
    {
     "data": {
      "text/plain": [
       "100"
      ]
     },
     "execution_count": 3,
     "metadata": {},
     "output_type": "execute_result"
    }
   ],
   "source": [
    "a"
   ]
  },
  {
   "cell_type": "code",
   "execution_count": 4,
   "id": "cfb858ac",
   "metadata": {},
   "outputs": [
    {
     "data": {
      "text/plain": [
       "int"
      ]
     },
     "execution_count": 4,
     "metadata": {},
     "output_type": "execute_result"
    }
   ],
   "source": [
    "type(a) # we can check the type by using type()"
   ]
  },
  {
   "cell_type": "code",
   "execution_count": 5,
   "id": "95b3f0d2",
   "metadata": {},
   "outputs": [],
   "source": [
    "a = 0.5343  # we can also assign float number to a variable"
   ]
  },
  {
   "cell_type": "code",
   "execution_count": 5,
   "id": "05822b8d",
   "metadata": {},
   "outputs": [
    {
     "data": {
      "text/plain": [
       "0.5343"
      ]
     },
     "execution_count": 5,
     "metadata": {},
     "output_type": "execute_result"
    }
   ],
   "source": [
    "a"
   ]
  },
  {
   "cell_type": "markdown",
   "id": "95f6b6a2",
   "metadata": {},
   "source": [
    "#### Strings"
   ]
  },
  {
   "cell_type": "code",
   "execution_count": 8,
   "id": "8ece7c45",
   "metadata": {},
   "outputs": [],
   "source": [
    "a = \"khan\" #any thing with in \"\"  will be known as a string which represent as str also"
   ]
  },
  {
   "cell_type": "code",
   "execution_count": 7,
   "id": "c2fe6b6d",
   "metadata": {},
   "outputs": [
    {
     "data": {
      "text/plain": [
       "'khan'"
      ]
     },
     "execution_count": 7,
     "metadata": {},
     "output_type": "execute_result"
    }
   ],
   "source": [
    "a"
   ]
  },
  {
   "cell_type": "code",
   "execution_count": 12,
   "id": "874e9881",
   "metadata": {},
   "outputs": [],
   "source": [
    "user_name = \"Muhammad Khan\""
   ]
  },
  {
   "cell_type": "code",
   "execution_count": 13,
   "id": "139f7414",
   "metadata": {},
   "outputs": [
    {
     "name": "stdout",
     "output_type": "stream",
     "text": [
      "Muhammad Khan\n"
     ]
    }
   ],
   "source": [
    "print(user_name)"
   ]
  },
  {
   "cell_type": "code",
   "execution_count": 9,
   "id": "6aa72c05",
   "metadata": {},
   "outputs": [
    {
     "data": {
      "text/plain": [
       "str"
      ]
     },
     "execution_count": 9,
     "metadata": {},
     "output_type": "execute_result"
    }
   ],
   "source": [
    "type(a) #checking type of variable"
   ]
  },
  {
   "cell_type": "code",
   "execution_count": 10,
   "id": "2a66678f",
   "metadata": {},
   "outputs": [
    {
     "name": "stdout",
     "output_type": "stream",
     "text": [
      "my name is khan\n"
     ]
    }
   ],
   "source": [
    "print(\"my name is khan\") #print() is a builtin function which shows us output"
   ]
  },
  {
   "cell_type": "markdown",
   "id": "52490eef",
   "metadata": {},
   "source": [
    "#### Arithmetic operations"
   ]
  },
  {
   "cell_type": "code",
   "execution_count": 11,
   "id": "ad791b90",
   "metadata": {},
   "outputs": [],
   "source": [
    "a = 23"
   ]
  },
  {
   "cell_type": "code",
   "execution_count": 12,
   "id": "a7ed34a7",
   "metadata": {},
   "outputs": [],
   "source": [
    "b = 33"
   ]
  },
  {
   "cell_type": "code",
   "execution_count": 14,
   "id": "dfb9e2f7",
   "metadata": {},
   "outputs": [
    {
     "name": "stdout",
     "output_type": "stream",
     "text": [
      "759\n"
     ]
    }
   ],
   "source": [
    "print(a*b)"
   ]
  },
  {
   "cell_type": "code",
   "execution_count": 15,
   "id": "3391dd73",
   "metadata": {},
   "outputs": [
    {
     "name": "stdout",
     "output_type": "stream",
     "text": [
      "0.696969696969697\n"
     ]
    }
   ],
   "source": [
    "print(a/b)"
   ]
  },
  {
   "cell_type": "code",
   "execution_count": 17,
   "id": "a462658a",
   "metadata": {},
   "outputs": [],
   "source": [
    "c = 1 + 1"
   ]
  },
  {
   "cell_type": "code",
   "execution_count": 18,
   "id": "e3e2d013",
   "metadata": {},
   "outputs": [
    {
     "name": "stdout",
     "output_type": "stream",
     "text": [
      "2\n"
     ]
    }
   ],
   "source": [
    "print(c)"
   ]
  },
  {
   "cell_type": "code",
   "execution_count": 19,
   "id": "160a5ec1",
   "metadata": {},
   "outputs": [],
   "source": [
    "d = str(1) + \"khan\""
   ]
  },
  {
   "cell_type": "code",
   "execution_count": 20,
   "id": "87abc702",
   "metadata": {},
   "outputs": [
    {
     "name": "stdout",
     "output_type": "stream",
     "text": [
      "1khan\n"
     ]
    }
   ],
   "source": [
    "print(d)"
   ]
  },
  {
   "cell_type": "code",
   "execution_count": 22,
   "id": "2ddaf54b",
   "metadata": {},
   "outputs": [
    {
     "name": "stdout",
     "output_type": "stream",
     "text": [
      "what is your age my age is 24\n"
     ]
    }
   ],
   "source": [
    "print(\"what is your age my age is 24\")"
   ]
  },
  {
   "cell_type": "code",
   "execution_count": 23,
   "id": "b4f4427b",
   "metadata": {},
   "outputs": [],
   "source": [
    "h = 3468736587436875"
   ]
  },
  {
   "cell_type": "code",
   "execution_count": 24,
   "id": "407191e9",
   "metadata": {},
   "outputs": [],
   "source": [
    "z = 3445345"
   ]
  },
  {
   "cell_type": "code",
   "execution_count": 25,
   "id": "6470352a",
   "metadata": {},
   "outputs": [
    {
     "name": "stdout",
     "output_type": "stream",
     "text": [
      "11950994257842700096875\n"
     ]
    }
   ],
   "source": [
    "print(h*z)"
   ]
  },
  {
   "cell_type": "code",
   "execution_count": 14,
   "id": "b11c979d",
   "metadata": {},
   "outputs": [],
   "source": [
    "dfs = 4"
   ]
  },
  {
   "cell_type": "code",
   "execution_count": 31,
   "id": "98a6412f",
   "metadata": {},
   "outputs": [
    {
     "name": "stdout",
     "output_type": "stream",
     "text": [
      "4\n"
     ]
    }
   ],
   "source": [
    "print(a343)"
   ]
  },
  {
   "cell_type": "markdown",
   "id": "94d87bf6",
   "metadata": {},
   "source": [
    "#### special names of Variables"
   ]
  },
  {
   "cell_type": "code",
   "execution_count": 17,
   "id": "3a046b4a",
   "metadata": {},
   "outputs": [],
   "source": [
    "my_name  = 34343"
   ]
  },
  {
   "cell_type": "code",
   "execution_count": 18,
   "id": "fe306b70",
   "metadata": {},
   "outputs": [
    {
     "name": "stdout",
     "output_type": "stream",
     "text": [
      "34343\n"
     ]
    }
   ],
   "source": [
    "print(my_name)"
   ]
  },
  {
   "cell_type": "code",
   "execution_count": 20,
   "id": "2a694c24",
   "metadata": {},
   "outputs": [],
   "source": [
    "# we can not write intr at start of varial name. (12my_name. = 34343. because python will not execute) \n",
    "#Only textual or alphabetical or \"few \"special characters can be write as varial name in beginning forexample"
   ]
  },
  {
   "cell_type": "code",
   "execution_count": 21,
   "id": "e8b1b0f5",
   "metadata": {},
   "outputs": [
    {
     "ename": "SyntaxError",
     "evalue": "invalid syntax (122203954.py, line 1)",
     "output_type": "error",
     "traceback": [
      "\u001b[0;36m  Input \u001b[0;32mIn [21]\u001b[0;36m\u001b[0m\n\u001b[0;31m    &alex6 = 6\u001b[0m\n\u001b[0m    ^\u001b[0m\n\u001b[0;31mSyntaxError\u001b[0m\u001b[0;31m:\u001b[0m invalid syntax\n"
     ]
    }
   ],
   "source": [
    "&alex6 = 6"
   ]
  },
  {
   "cell_type": "code",
   "execution_count": 23,
   "id": "47c159b4",
   "metadata": {},
   "outputs": [],
   "source": [
    "alex6 = 6"
   ]
  },
  {
   "cell_type": "code",
   "execution_count": 24,
   "id": "864957dd",
   "metadata": {},
   "outputs": [],
   "source": [
    "# So \"&\" is a special character which can not be use but u can use others like \"_\""
   ]
  },
  {
   "cell_type": "code",
   "execution_count": 25,
   "id": "c3275a81",
   "metadata": {},
   "outputs": [],
   "source": [
    "_alex = 6"
   ]
  },
  {
   "cell_type": "code",
   "execution_count": 26,
   "id": "5ac324fb",
   "metadata": {},
   "outputs": [
    {
     "name": "stdout",
     "output_type": "stream",
     "text": [
      "6\n"
     ]
    }
   ],
   "source": [
    "print(_alex)"
   ]
  }
 ],
 "metadata": {
  "kernelspec": {
   "display_name": "Python 3 (ipykernel)",
   "language": "python",
   "name": "python3"
  },
  "language_info": {
   "codemirror_mode": {
    "name": "ipython",
    "version": 3
   },
   "file_extension": ".py",
   "mimetype": "text/x-python",
   "name": "python",
   "nbconvert_exporter": "python",
   "pygments_lexer": "ipython3",
   "version": "3.9.12"
  }
 },
 "nbformat": 4,
 "nbformat_minor": 5
}
